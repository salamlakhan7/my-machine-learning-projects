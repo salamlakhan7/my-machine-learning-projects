{
  "nbformat": 4,
  "nbformat_minor": 0,
  "metadata": {
    "colab": {
      "provenance": []
    },
    "kernelspec": {
      "name": "python3",
      "display_name": "Python 3"
    },
    "language_info": {
      "name": "python"
    }
  },
  "cells": [
    {
      "cell_type": "code",
      "execution_count": null,
      "metadata": {
        "colab": {
          "base_uri": "https://localhost:8080/"
        },
        "id": "qn-RBD-Cqit5",
        "outputId": "ef7aeaad-c64c-4e76-ba52-2f9002cd988c"
      },
      "outputs": [
        {
          "output_type": "stream",
          "name": "stdout",
          "text": [
            "sum of given array              :      66\n",
            "Mean of given array             :      11.0\n",
            "Maximum number in  given array  :      20\n",
            "minimum of given array          :      1\n",
            "\n",
            "\n",
            "\n",
            "insert the value at index 1 value 2 :  [ 1  2  5 12 13 15 20]\n",
            "after appending value 25            :  [ 1  2  5 12 13 15 20 25]\n",
            "what if we want to clear the array  :  []\n",
            "\n",
            "\n",
            "\n",
            "\n",
            "sum is :  [ 5 13 24 29 35 44]\n",
            "multiplication :  [  4  40 144 208 300 480]\n",
            "substraction   : [-3 -3  0 -3 -5 -4]\n",
            "division       :  [0.25       0.625      1.         0.8125     0.75       0.83333333]\n",
            "\n",
            "\n",
            "\n",
            "sum is :  66\n",
            "sub is :  [0 0 0 0 0 0]\n",
            "sum is :  [  1  25 144 169 225 400]\n",
            "sum is :  [1. 1. 1. 1. 1. 1.]\n",
            "[ 1  5 12 13 15 20]\n"
          ]
        }
      ],
      "source": [
        "#small task done using numpy as np\n",
        "import numpy as np\n",
        "ab=np.array([1,5,12,13,15,20])\n",
        "ak=np.array([4,8,12,16,20,24])\n",
        "\n",
        "print(\"sum of given array              :     \", np.sum(ab))\n",
        "print(\"Mean of given array             :     \", np.mean(ab))\n",
        "print(\"Maximum number in  given array  :     \", np.max(ab))\n",
        "print(\"minimum of given array          :     \", np.min(ab))\n",
        "\n",
        "print(\"\\n\\n\")\n",
        "\n",
        "\n",
        "\n",
        "#manipulations\n",
        "\n",
        "ab=np.insert(ab,1,2)\n",
        "print(\"insert the value at index 1 value 2 : \",ab)\n",
        "\n",
        "ab=np.append(ab,25)\n",
        "print(\"after appending value 25            : \",ab)\n",
        "\n",
        "ab=np.array([])\n",
        "print(\"what if we want to clear the array  : \",ab)\n",
        "\n",
        "print(\"\\n\\n\\n\")\n",
        "\n",
        "\n",
        "#arithematic operation\n",
        "ab=np.array([1,5,12,13,15,20])\n",
        "ak=np.array([4,8,12,16,20,24])\n",
        "\n",
        "\n",
        "print(\"sum is : \", ab+ak)\n",
        "print(\"multiplication : \", ab*ak)\n",
        "print(\"substraction   :\" , ab-ak)\n",
        "print(\"division       : \", ab/ak)\n",
        "#print(\"power          : \", ab**ak)\n",
        "\n",
        "print(\"\\n\\n\")\n",
        "\n",
        "sum=np.sum(ab)\n",
        "print(\"sum is : \",sum)\n",
        "\n",
        "subtract=np.subtract(ab,ab)\n",
        "print(\"sub is : \",subtract)\n",
        "\n",
        "mul=np.multiply(ab,ab)\n",
        "print(\"sum is : \",mul)\n",
        "\n",
        "divide=np.divide(ab,ab)\n",
        "print(\"sum is : \",divide)\n",
        "\n",
        "print(ab)\n",
        "\n"
      ]
    },
    {
      "cell_type": "code",
      "source": [
        "import numpy as np\n",
        "az=np.array([1,2,3,4,5,6])\n",
        "\n",
        "print(az)\n",
        "print(np.sum(az))"
      ],
      "metadata": {
        "colab": {
          "base_uri": "https://localhost:8080/"
        },
        "id": "HKtGkvvKdaqS",
        "outputId": "480b60b9-994a-4cb7-c559-aee23b2f7d65"
      },
      "execution_count": 2,
      "outputs": [
        {
          "output_type": "stream",
          "name": "stdout",
          "text": [
            "[1 2 3 4 5 6]\n",
            "21\n"
          ]
        }
      ]
    }
  ]
}
